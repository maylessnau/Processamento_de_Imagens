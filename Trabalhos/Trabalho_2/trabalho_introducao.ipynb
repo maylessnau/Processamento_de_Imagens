{
  "nbformat": 4,
  "nbformat_minor": 0,
  "metadata": {
    "colab": {
      "provenance": []
    },
    "kernelspec": {
      "name": "python3",
      "display_name": "Python 3"
    },
    "language_info": {
      "name": "python"
    }
  },
  "cells": [
    {
      "cell_type": "markdown",
      "source": [
        "Baixando e extraindo as imagens da base siim_small"
      ],
      "metadata": {
        "id": "pjWYbjPHMb9q"
      }
    },
    {
      "cell_type": "code",
      "execution_count": null,
      "metadata": {
        "colab": {
          "base_uri": "https://localhost:8080/"
        },
        "collapsed": true,
        "id": "kV3WnkXiLswN",
        "outputId": "6dae8f15-b08f-48d9-849b-97301c70c035"
      },
      "outputs": [
        {
          "output_type": "stream",
          "name": "stdout",
          "text": [
            "--2025-05-09 01:21:19--  https://s3.amazonaws.com/fast-ai-imagelocal/siim_small.tgz\n",
            "Resolving s3.amazonaws.com (s3.amazonaws.com)... 52.216.248.134, 3.5.23.165, 54.231.139.128, ...\n",
            "Connecting to s3.amazonaws.com (s3.amazonaws.com)|52.216.248.134|:443... connected.\n",
            "HTTP request sent, awaiting response... 200 OK\n",
            "Length: 33276453 (32M) [application/x-tar]\n",
            "Saving to: ‘siim_small.tgz’\n",
            "\n",
            "siim_small.tgz      100%[===================>]  31.73M  31.2MB/s    in 1.0s    \n",
            "\n",
            "2025-05-09 01:21:20 (31.2 MB/s) - ‘siim_small.tgz’ saved [33276453/33276453]\n",
            "\n",
            "siim_small/\n",
            "siim_small/train/\n",
            "siim_small/train/No Pneumothorax/\n",
            "siim_small/train/No Pneumothorax/000039.dcm\n",
            "siim_small/train/No Pneumothorax/000091.dcm\n",
            "siim_small/train/No Pneumothorax/000192.dcm\n",
            "siim_small/train/No Pneumothorax/000176.dcm\n",
            "siim_small/train/No Pneumothorax/000162.dcm\n",
            "siim_small/train/No Pneumothorax/000215.dcm\n",
            "siim_small/train/No Pneumothorax/000156.dcm\n",
            "siim_small/train/No Pneumothorax/000008.dcm\n",
            "siim_small/train/No Pneumothorax/000037.dcm\n",
            "siim_small/train/No Pneumothorax/000047.dcm\n",
            "siim_small/train/No Pneumothorax/000180.dcm\n",
            "siim_small/train/No Pneumothorax/000147.dcm\n",
            "siim_small/train/No Pneumothorax/000110.dcm\n",
            "siim_small/train/No Pneumothorax/000075.dcm\n",
            "siim_small/train/No Pneumothorax/000073.dcm\n",
            "siim_small/train/No Pneumothorax/000009.dcm\n",
            "siim_small/train/No Pneumothorax/000198.dcm\n",
            "siim_small/train/No Pneumothorax/000011.dcm\n",
            "siim_small/train/No Pneumothorax/000218.dcm\n",
            "siim_small/train/No Pneumothorax/000007.dcm\n",
            "siim_small/train/No Pneumothorax/000089.dcm\n",
            "siim_small/train/No Pneumothorax/000137.dcm\n",
            "siim_small/train/No Pneumothorax/000109.dcm\n",
            "siim_small/train/No Pneumothorax/000131.dcm\n",
            "siim_small/train/No Pneumothorax/000104.dcm\n",
            "siim_small/train/No Pneumothorax/000128.dcm\n",
            "siim_small/train/No Pneumothorax/000027.dcm\n",
            "siim_small/train/No Pneumothorax/000242.dcm\n",
            "siim_small/train/No Pneumothorax/000188.dcm\n",
            "siim_small/train/No Pneumothorax/000224.dcm\n",
            "siim_small/train/No Pneumothorax/000080.dcm\n",
            "siim_small/train/No Pneumothorax/000133.dcm\n",
            "siim_small/train/No Pneumothorax/000168.dcm\n",
            "siim_small/train/No Pneumothorax/000208.dcm\n",
            "siim_small/train/No Pneumothorax/000143.dcm\n",
            "siim_small/train/No Pneumothorax/000069.dcm\n",
            "siim_small/train/No Pneumothorax/000237.dcm\n",
            "siim_small/train/No Pneumothorax/000178.dcm\n",
            "siim_small/train/No Pneumothorax/000231.dcm\n",
            "siim_small/train/No Pneumothorax/000022.dcm\n",
            "siim_small/train/No Pneumothorax/000096.dcm\n",
            "siim_small/train/No Pneumothorax/000210.dcm\n",
            "siim_small/train/No Pneumothorax/000148.dcm\n",
            "siim_small/train/No Pneumothorax/000207.dcm\n",
            "siim_small/train/No Pneumothorax/000202.dcm\n",
            "siim_small/train/No Pneumothorax/000067.dcm\n",
            "siim_small/train/No Pneumothorax/000205.dcm\n",
            "siim_small/train/No Pneumothorax/000054.dcm\n",
            "siim_small/train/No Pneumothorax/000088.dcm\n",
            "siim_small/train/No Pneumothorax/000035.dcm\n",
            "siim_small/train/No Pneumothorax/000098.dcm\n",
            "siim_small/train/No Pneumothorax/000182.dcm\n",
            "siim_small/train/No Pneumothorax/000230.dcm\n",
            "siim_small/train/No Pneumothorax/000175.dcm\n",
            "siim_small/train/No Pneumothorax/000248.dcm\n",
            "siim_small/train/No Pneumothorax/000114.dcm\n",
            "siim_small/train/No Pneumothorax/000019.dcm\n",
            "siim_small/train/No Pneumothorax/000048.dcm\n",
            "siim_small/train/No Pneumothorax/000123.dcm\n",
            "siim_small/train/No Pneumothorax/000044.dcm\n",
            "siim_small/train/No Pneumothorax/000165.dcm\n",
            "siim_small/train/No Pneumothorax/000132.dcm\n",
            "siim_small/train/No Pneumothorax/000249.dcm\n",
            "siim_small/train/No Pneumothorax/000211.dcm\n",
            "siim_small/train/No Pneumothorax/000116.dcm\n",
            "siim_small/train/No Pneumothorax/000105.dcm\n",
            "siim_small/train/No Pneumothorax/000032.dcm\n",
            "siim_small/train/No Pneumothorax/000234.dcm\n",
            "siim_small/train/No Pneumothorax/000119.dcm\n",
            "siim_small/train/No Pneumothorax/000014.dcm\n",
            "siim_small/train/No Pneumothorax/000121.dcm\n",
            "siim_small/train/No Pneumothorax/000090.dcm\n",
            "siim_small/train/No Pneumothorax/000020.dcm\n",
            "siim_small/train/No Pneumothorax/000160.dcm\n",
            "siim_small/train/No Pneumothorax/000190.dcm\n",
            "siim_small/train/No Pneumothorax/000193.dcm\n",
            "siim_small/train/No Pneumothorax/000079.dcm\n",
            "siim_small/train/No Pneumothorax/000241.dcm\n",
            "siim_small/train/No Pneumothorax/000112.dcm\n",
            "siim_small/train/No Pneumothorax/000025.dcm\n",
            "siim_small/train/No Pneumothorax/000169.dcm\n",
            "siim_small/train/No Pneumothorax/000066.dcm\n",
            "siim_small/train/No Pneumothorax/000228.dcm\n",
            "siim_small/train/No Pneumothorax/000099.dcm\n",
            "siim_small/train/No Pneumothorax/000163.dcm\n",
            "siim_small/train/No Pneumothorax/000092.dcm\n",
            "siim_small/train/No Pneumothorax/000078.dcm\n",
            "siim_small/train/No Pneumothorax/000204.dcm\n",
            "siim_small/train/No Pneumothorax/000235.dcm\n",
            "siim_small/train/No Pneumothorax/000135.dcm\n",
            "siim_small/train/No Pneumothorax/000146.dcm\n",
            "siim_small/train/No Pneumothorax/000177.dcm\n",
            "siim_small/train/No Pneumothorax/000171.dcm\n",
            "siim_small/train/No Pneumothorax/000024.dcm\n",
            "siim_small/train/No Pneumothorax/000053.dcm\n",
            "siim_small/train/No Pneumothorax/000036.dcm\n",
            "siim_small/train/No Pneumothorax/000195.dcm\n",
            "siim_small/train/No Pneumothorax/000072.dcm\n",
            "siim_small/train/No Pneumothorax/000149.dcm\n",
            "siim_small/train/No Pneumothorax/000063.dcm\n",
            "siim_small/train/No Pneumothorax/000229.dcm\n",
            "siim_small/train/No Pneumothorax/000103.dcm\n",
            "siim_small/train/No Pneumothorax/000057.dcm\n",
            "siim_small/train/No Pneumothorax/000006.dcm\n",
            "siim_small/train/No Pneumothorax/000118.dcm\n",
            "siim_small/train/No Pneumothorax/000122.dcm\n",
            "siim_small/train/No Pneumothorax/000002.dcm\n",
            "siim_small/train/No Pneumothorax/000159.dcm\n",
            "siim_small/train/No Pneumothorax/000206.dcm\n",
            "siim_small/train/No Pneumothorax/000074.dcm\n",
            "siim_small/train/No Pneumothorax/000150.dcm\n",
            "siim_small/train/No Pneumothorax/000216.dcm\n",
            "siim_small/train/No Pneumothorax/000071.dcm\n",
            "siim_small/train/No Pneumothorax/000051.dcm\n",
            "siim_small/train/No Pneumothorax/000212.dcm\n",
            "siim_small/train/No Pneumothorax/000028.dcm\n",
            "siim_small/train/No Pneumothorax/000062.dcm\n",
            "siim_small/train/No Pneumothorax/000184.dcm\n",
            "siim_small/train/No Pneumothorax/000179.dcm\n",
            "siim_small/train/No Pneumothorax/000082.dcm\n",
            "siim_small/train/No Pneumothorax/000041.dcm\n",
            "siim_small/train/No Pneumothorax/000102.dcm\n",
            "siim_small/train/No Pneumothorax/000085.dcm\n",
            "siim_small/train/No Pneumothorax/000030.dcm\n",
            "siim_small/train/No Pneumothorax/000017.dcm\n",
            "siim_small/train/No Pneumothorax/000172.dcm\n",
            "siim_small/train/No Pneumothorax/000226.dcm\n",
            "siim_small/train/No Pneumothorax/000097.dcm\n",
            "siim_small/train/No Pneumothorax/000221.dcm\n",
            "siim_small/train/No Pneumothorax/000034.dcm\n",
            "siim_small/train/No Pneumothorax/000000.dcm\n",
            "siim_small/train/No Pneumothorax/000093.dcm\n",
            "siim_small/train/No Pneumothorax/000243.dcm\n",
            "siim_small/train/No Pneumothorax/000203.dcm\n",
            "siim_small/train/No Pneumothorax/000023.dcm\n",
            "siim_small/train/No Pneumothorax/000056.dcm\n",
            "siim_small/train/No Pneumothorax/000209.dcm\n",
            "siim_small/train/No Pneumothorax/000108.dcm\n",
            "siim_small/train/No Pneumothorax/000018.dcm\n",
            "siim_small/train/No Pneumothorax/000196.dcm\n",
            "siim_small/train/No Pneumothorax/000015.dcm\n",
            "siim_small/train/No Pneumothorax/000087.dcm\n",
            "siim_small/train/No Pneumothorax/000167.dcm\n",
            "siim_small/train/No Pneumothorax/000094.dcm\n",
            "siim_small/train/No Pneumothorax/000138.dcm\n",
            "siim_small/train/No Pneumothorax/000166.dcm\n",
            "siim_small/train/No Pneumothorax/000220.dcm\n",
            "siim_small/train/No Pneumothorax/000100.dcm\n",
            "siim_small/train/No Pneumothorax/000026.dcm\n",
            "siim_small/train/No Pneumothorax/000059.dcm\n",
            "siim_small/train/No Pneumothorax/000136.dcm\n",
            "siim_small/train/No Pneumothorax/000045.dcm\n",
            "siim_small/train/No Pneumothorax/000225.dcm\n",
            "siim_small/train/No Pneumothorax/000127.dcm\n",
            "siim_small/train/No Pneumothorax/000197.dcm\n",
            "siim_small/train/No Pneumothorax/000031.dcm\n",
            "siim_small/train/No Pneumothorax/000095.dcm\n",
            "siim_small/train/No Pneumothorax/000174.dcm\n",
            "siim_small/train/No Pneumothorax/000115.dcm\n",
            "siim_small/train/No Pneumothorax/000194.dcm\n",
            "siim_small/train/No Pneumothorax/000113.dcm\n",
            "siim_small/train/No Pneumothorax/000246.dcm\n",
            "siim_small/train/No Pneumothorax/000040.dcm\n",
            "siim_small/train/No Pneumothorax/000077.dcm\n",
            "siim_small/train/No Pneumothorax/000005.dcm\n",
            "siim_small/train/No Pneumothorax/000033.dcm\n",
            "siim_small/train/No Pneumothorax/000012.dcm\n",
            "siim_small/train/No Pneumothorax/000124.dcm\n",
            "siim_small/train/No Pneumothorax/000245.dcm\n",
            "siim_small/train/No Pneumothorax/000239.dcm\n",
            "siim_small/train/No Pneumothorax/000164.dcm\n",
            "siim_small/train/No Pneumothorax/000183.dcm\n",
            "siim_small/train/No Pneumothorax/000186.dcm\n",
            "siim_small/train/No Pneumothorax/000244.dcm\n",
            "siim_small/train/No Pneumothorax/000141.dcm\n",
            "siim_small/train/Pneumothorax/\n",
            "siim_small/train/Pneumothorax/000042.dcm\n",
            "siim_small/train/Pneumothorax/000107.dcm\n",
            "siim_small/train/Pneumothorax/000064.dcm\n",
            "siim_small/train/Pneumothorax/000170.dcm\n",
            "siim_small/train/Pneumothorax/000236.dcm\n",
            "siim_small/train/Pneumothorax/000065.dcm\n",
            "siim_small/train/Pneumothorax/000200.dcm\n",
            "siim_small/train/Pneumothorax/000043.dcm\n",
            "siim_small/train/Pneumothorax/000247.dcm\n",
            "siim_small/train/Pneumothorax/000049.dcm\n",
            "siim_small/train/Pneumothorax/000161.dcm\n",
            "siim_small/train/Pneumothorax/000003.dcm\n",
            "siim_small/train/Pneumothorax/000173.dcm\n",
            "siim_small/train/Pneumothorax/000111.dcm\n",
            "siim_small/train/Pneumothorax/000158.dcm\n",
            "siim_small/train/Pneumothorax/000081.dcm\n",
            "siim_small/train/Pneumothorax/000129.dcm\n",
            "siim_small/train/Pneumothorax/000151.dcm\n",
            "siim_small/train/Pneumothorax/000187.dcm\n",
            "siim_small/train/Pneumothorax/000061.dcm\n",
            "siim_small/train/Pneumothorax/000126.dcm\n",
            "siim_small/train/Pneumothorax/000157.dcm\n",
            "siim_small/train/Pneumothorax/000038.dcm\n",
            "siim_small/train/Pneumothorax/000240.dcm\n",
            "siim_small/train/Pneumothorax/000155.dcm\n",
            "siim_small/train/Pneumothorax/000117.dcm\n",
            "siim_small/train/Pneumothorax/000214.dcm\n",
            "siim_small/train/Pneumothorax/000201.dcm\n",
            "siim_small/train/Pneumothorax/000055.dcm\n",
            "siim_small/train/Pneumothorax/000086.dcm\n",
            "siim_small/train/Pneumothorax/000181.dcm\n",
            "siim_small/train/Pneumothorax/000001.dcm\n",
            "siim_small/train/Pneumothorax/000191.dcm\n",
            "siim_small/train/Pneumothorax/000213.dcm\n",
            "siim_small/train/Pneumothorax/000010.dcm\n",
            "siim_small/train/Pneumothorax/000016.dcm\n",
            "siim_small/train/Pneumothorax/000227.dcm\n",
            "siim_small/train/Pneumothorax/000052.dcm\n",
            "siim_small/train/Pneumothorax/000004.dcm\n",
            "siim_small/train/Pneumothorax/000189.dcm\n",
            "siim_small/train/Pneumothorax/000139.dcm\n",
            "siim_small/train/Pneumothorax/000152.dcm\n",
            "siim_small/train/Pneumothorax/000142.dcm\n",
            "siim_small/train/Pneumothorax/000232.dcm\n",
            "siim_small/train/Pneumothorax/000021.dcm\n",
            "siim_small/train/Pneumothorax/000029.dcm\n",
            "siim_small/train/Pneumothorax/000083.dcm\n",
            "siim_small/train/Pneumothorax/000058.dcm\n",
            "siim_small/train/Pneumothorax/000153.dcm\n",
            "siim_small/train/Pneumothorax/000145.dcm\n",
            "siim_small/train/Pneumothorax/000219.dcm\n",
            "siim_small/train/Pneumothorax/000013.dcm\n",
            "siim_small/train/Pneumothorax/000233.dcm\n",
            "siim_small/train/Pneumothorax/000101.dcm\n",
            "siim_small/train/Pneumothorax/000223.dcm\n",
            "siim_small/train/Pneumothorax/000199.dcm\n",
            "siim_small/train/Pneumothorax/000060.dcm\n",
            "siim_small/train/Pneumothorax/000046.dcm\n",
            "siim_small/train/Pneumothorax/000140.dcm\n",
            "siim_small/train/Pneumothorax/000125.dcm\n",
            "siim_small/train/Pneumothorax/000106.dcm\n",
            "siim_small/train/Pneumothorax/000084.dcm\n",
            "siim_small/train/Pneumothorax/000070.dcm\n",
            "siim_small/train/Pneumothorax/000238.dcm\n",
            "siim_small/train/Pneumothorax/000185.dcm\n",
            "siim_small/train/Pneumothorax/000120.dcm\n",
            "siim_small/train/Pneumothorax/000222.dcm\n",
            "siim_small/train/Pneumothorax/000068.dcm\n",
            "siim_small/train/Pneumothorax/000050.dcm\n",
            "siim_small/train/Pneumothorax/000154.dcm\n",
            "siim_small/train/Pneumothorax/000217.dcm\n",
            "siim_small/train/Pneumothorax/000130.dcm\n",
            "siim_small/train/Pneumothorax/000076.dcm\n",
            "siim_small/train/Pneumothorax/000134.dcm\n",
            "siim_small/train/Pneumothorax/000144.dcm\n",
            "siim_small/labels.csv\n"
          ]
        }
      ],
      "source": [
        "!wget https://s3.amazonaws.com/fast-ai-imagelocal/siim_small.tgz\n",
        "!tar -xvf siim_small.tgz"
      ]
    },
    {
      "cell_type": "markdown",
      "source": [
        "Instalando as bibliotecas necessárias"
      ],
      "metadata": {
        "id": "I0EjKAt7NWkO"
      }
    },
    {
      "cell_type": "code",
      "source": [
        "!pip install pydicom opencv-python scikit-image"
      ],
      "metadata": {
        "colab": {
          "base_uri": "https://localhost:8080/"
        },
        "id": "yXYXYUxuLw9B",
        "outputId": "7fe612a3-aaf9-4c56-b357-accf85ef157b",
        "collapsed": true
      },
      "execution_count": null,
      "outputs": [
        {
          "output_type": "stream",
          "name": "stdout",
          "text": [
            "Collecting pydicom\n",
            "  Downloading pydicom-3.0.1-py3-none-any.whl.metadata (9.4 kB)\n",
            "Requirement already satisfied: opencv-python in /usr/local/lib/python3.11/dist-packages (4.11.0.86)\n",
            "Requirement already satisfied: scikit-image in /usr/local/lib/python3.11/dist-packages (0.25.2)\n",
            "Requirement already satisfied: numpy>=1.21.2 in /usr/local/lib/python3.11/dist-packages (from opencv-python) (2.0.2)\n",
            "Requirement already satisfied: scipy>=1.11.4 in /usr/local/lib/python3.11/dist-packages (from scikit-image) (1.15.2)\n",
            "Requirement already satisfied: networkx>=3.0 in /usr/local/lib/python3.11/dist-packages (from scikit-image) (3.4.2)\n",
            "Requirement already satisfied: pillow>=10.1 in /usr/local/lib/python3.11/dist-packages (from scikit-image) (11.2.1)\n",
            "Requirement already satisfied: imageio!=2.35.0,>=2.33 in /usr/local/lib/python3.11/dist-packages (from scikit-image) (2.37.0)\n",
            "Requirement already satisfied: tifffile>=2022.8.12 in /usr/local/lib/python3.11/dist-packages (from scikit-image) (2025.3.30)\n",
            "Requirement already satisfied: packaging>=21 in /usr/local/lib/python3.11/dist-packages (from scikit-image) (24.2)\n",
            "Requirement already satisfied: lazy-loader>=0.4 in /usr/local/lib/python3.11/dist-packages (from scikit-image) (0.4)\n",
            "Downloading pydicom-3.0.1-py3-none-any.whl (2.4 MB)\n",
            "\u001b[2K   \u001b[90m━━━━━━━━━━━━━━━━━━━━━━━━━━━━━━━━━━━━━━━━\u001b[0m \u001b[32m2.4/2.4 MB\u001b[0m \u001b[31m16.9 MB/s\u001b[0m eta \u001b[36m0:00:00\u001b[0m\n",
            "\u001b[?25hInstalling collected packages: pydicom\n",
            "Successfully installed pydicom-3.0.1\n"
          ]
        }
      ]
    },
    {
      "cell_type": "markdown",
      "source": [
        "Imports e definições"
      ],
      "metadata": {
        "id": "9XxDVcps7ScJ"
      }
    },
    {
      "cell_type": "code",
      "source": [
        "import matplotlib.pyplot as plt\n",
        "import numpy as np\n",
        "from pydicom import dcmread\n",
        "from pathlib import Path\n",
        "from __future__ import print_function\n",
        "from __future__ import division\n",
        "from sklearn.metrics import confusion_matrix\n",
        "import cv2\n",
        "import math\n",
        "\n",
        "# define os comparadores do OpenCV\n",
        "metodos = {\n",
        "    \"CORREL\": cv2.HISTCMP_CORREL,\n",
        "    \"CHISQR\": cv2.HISTCMP_CHISQR,\n",
        "    \"INTERSECT\": cv2.HISTCMP_INTERSECT,\n",
        "    \"BHATTACHARYYA\": cv2.HISTCMP_BHATTACHARYYA\n",
        "}\n",
        "\n",
        "# define os caminhos das pastas\n",
        "pneumo = Path(\"/content/siim_small/train/Pneumothorax\")\n",
        "no_pneumo = Path(\"/content/siim_small/train/No Pneumothorax\")"
      ],
      "metadata": {
        "id": "-U41OsBToocf"
      },
      "execution_count": null,
      "outputs": []
    },
    {
      "cell_type": "markdown",
      "source": [
        "Carregando e listando as imagens e respectivos histogramas"
      ],
      "metadata": {
        "id": "myzPo0Rno1-S"
      }
    },
    {
      "cell_type": "code",
      "source": [
        "# lê os 15 primeiros de cada pasta\n",
        "pneumo_imagens = sorted(pneumo.glob(\"*.dcm\"))[:15]\n",
        "no_pneumo_imagens = sorted(no_pneumo.glob(\"*.dcm\"))[:15]\n",
        "\n",
        "pneumo_datasets = [dcmread(i) for i in pneumo_imagens]\n",
        "no_pneumo_datasets = [dcmread(i) for i in no_pneumo_imagens]\n",
        "\n",
        "# junta as duas listas em uma só\n",
        "datasets = pneumo_datasets + no_pneumo_datasets\n",
        "\n",
        "# calcula histogramas para todas as imagens\n",
        "# obs.: o .append adiciona o resultado direto na lista\n",
        "hists = []\n",
        "for imagem in datasets:\n",
        "  hists.append(cv2.calcHist([imagem.pixel_array], [0], None, [256], [0, 256]))"
      ],
      "metadata": {
        "id": "BijWifm-NZqi"
      },
      "execution_count": null,
      "outputs": []
    },
    {
      "cell_type": "markdown",
      "source": [
        "Cria um dicionário onde a chave é o nome do método (\"CORREL\", \"CHISQR\" etc.) e o valor é uma lista vazia onde a gente vai guardar os pares (label_real, label_predita)."
      ],
      "metadata": {
        "id": "MzJbABVEocQ7"
      }
    },
    {
      "cell_type": "code",
      "source": [
        "# lista de rótulos pra usar pra saber quem é o que\n",
        "# 0 para No Pneumothorax (negativo), 1 para Pneumothorax (positivo)\n",
        "labels = [1]*15 + [0]*15\n",
        "\n",
        "# dicionários pra guardar métricas\n",
        "resultados = {nome_metodo: [] for nome_metodo in metodos}"
      ],
      "metadata": {
        "id": "_8W44QAJoitL"
      },
      "execution_count": null,
      "outputs": []
    },
    {
      "cell_type": "markdown",
      "source": [
        "Fazendo todas as comparações"
      ],
      "metadata": {
        "id": "w2KUy_t5uhwY"
      }
    },
    {
      "cell_type": "code",
      "source": [
        "for indice_teste in range(len(hists)):\n",
        "    # seleciona o histograma e o rótulo da imagem que será usada como teste\n",
        "    histograma_teste = hists[indice_teste]\n",
        "    rotulo_teste = labels[indice_teste]\n",
        "\n",
        "    # cria uma base de treino removendo a imagem de teste\n",
        "    histogramas_treino = [h for i, h in enumerate(hists) if i != indice_teste]\n",
        "    rotulos_treino = [r for i, r in enumerate(labels) if i != indice_teste]\n",
        "\n",
        "    # para cada método de comparação de histograma\n",
        "    for nome_metodo, metodo_cv2 in metodos.items():\n",
        "        # lista para guardar as similaridades (ou distâncias) entre o teste e cada treino\n",
        "        similaridades = []\n",
        "\n",
        "        # compara a imagem de teste com cada uma da base de treino\n",
        "        for histograma_treino in histogramas_treino:\n",
        "            pontuacao = cv2.compareHist(histograma_teste, histograma_treino, metodo_cv2)\n",
        "            similaridades.append(pontuacao)\n",
        "\n",
        "        # determina qual imagem da base de treino é a mais parecida\n",
        "        if nome_metodo in [\"CORREL\", \"INTERSECT\"]:\n",
        "            # nestes métodos, quanto maior a pontuação, mais parecidos\n",
        "            indice_melhor = np.argmax(similaridades)\n",
        "        else:\n",
        "            # nestes métodos, quanto menor a pontuação, mais parecidos\n",
        "            indice_melhor = np.argmin(similaridades)\n",
        "\n",
        "        # pega o rótulo da imagem mais parecida\n",
        "        rotulo_predito = rotulos_treino[indice_melhor]\n",
        "\n",
        "        # salva no dicionário o rótulo real e o predito\n",
        "        resultados[nome_metodo].append((rotulo_teste, rotulo_predito))"
      ],
      "metadata": {
        "id": "5pfZSJH6Nbua"
      },
      "execution_count": null,
      "outputs": []
    },
    {
      "cell_type": "markdown",
      "source": [
        "Calculando e imprimindo as métricas"
      ],
      "metadata": {
        "id": "CG2E-uoouqug"
      }
    },
    {
      "cell_type": "code",
      "source": [
        "# para cada método de comparação\n",
        "for nome_metodo in resultados:\n",
        "     # separa os rótulos verdadeiros e preditos\n",
        "    verdadeiros, preditos = zip(*resultados[nome_metodo])\n",
        "\n",
        "    # calcula a matriz de confusão: [ [VP, FN], [FP, VN] ]\n",
        "    matriz = confusion_matrix(verdadeiros, preditos, labels=[1, 0])\n",
        "    VP, FN = matriz[0]\n",
        "    FP, VN = matriz[1]\n",
        "\n",
        "    # calcula sensibilidade (recall) e especificidade\n",
        "    sensibilidade = VP / (VP + FN) if (VP + FN) else 0\n",
        "    especificidade = VN / (VN + FP) if (VN + FP) else 0\n",
        "\n",
        "    # exibe resultados\n",
        "    print(f\"\\n===== {nome_metodo} =====\")\n",
        "    print(f\"\\nMatriz de confusão:\\n{matriz}\")\n",
        "    print(f\"Sensibilidade: {sensibilidade:.2f}\")\n",
        "    print(f\"Especificidade: {especificidade:.2f}\\n\")"
      ],
      "metadata": {
        "colab": {
          "base_uri": "https://localhost:8080/"
        },
        "id": "cB2QPsQxnbPE",
        "outputId": "befb8c1b-7902-4dd7-d8a9-fda3a6a2c72d"
      },
      "execution_count": null,
      "outputs": [
        {
          "output_type": "stream",
          "name": "stdout",
          "text": [
            "\n",
            "===== CORREL =====\n",
            "\n",
            "Matriz de confusão:\n",
            "[[8 7]\n",
            " [7 8]]\n",
            "Sensibilidade: 0.53\n",
            "Especificidade: 0.53\n",
            "\n",
            "\n",
            "===== CHISQR =====\n",
            "\n",
            "Matriz de confusão:\n",
            "[[9 6]\n",
            " [9 6]]\n",
            "Sensibilidade: 0.60\n",
            "Especificidade: 0.40\n",
            "\n",
            "\n",
            "===== INTERSECT =====\n",
            "\n",
            "Matriz de confusão:\n",
            "[[ 5 10]\n",
            " [ 7  8]]\n",
            "Sensibilidade: 0.33\n",
            "Especificidade: 0.53\n",
            "\n",
            "\n",
            "===== BHATTACHARYYA =====\n",
            "\n",
            "Matriz de confusão:\n",
            "[[6 9]\n",
            " [9 6]]\n",
            "Sensibilidade: 0.40\n",
            "Especificidade: 0.40\n",
            "\n"
          ]
        }
      ]
    }
  ]
}